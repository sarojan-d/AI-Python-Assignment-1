{
 "cells": [
  {
   "cell_type": "code",
   "execution_count": 10,
   "id": "fa86db4b-a73e-47a8-83a1-9398927a9ec9",
   "metadata": {},
   "outputs": [
    {
     "name": "stdin",
     "output_type": "stream",
     "text": [
      "Enter number of terms for fibonacci sequence:  15\n"
     ]
    },
    {
     "name": "stdout",
     "output_type": "stream",
     "text": [
      " Fibonacci series upto 15 terms: \n",
      "0\t1\t1\t2\t3\t5\t8\t13\t21\t34\t55\t89\t144\t233\t377\t"
     ]
    }
   ],
   "source": [
    "#Write a program to generate the Fibonacci sequence of a given number.\n",
    "\n",
    "n = int(input('Enter number of terms for fibonacci sequence: '))\n",
    "\n",
    "a=0\n",
    "b=1\n",
    "\n",
    "print(f' Fibonacci series upto {n} terms: ')\n",
    "for i in range(n):\n",
    "    print(a,end ='\\t')\n",
    "    a, b = b, a+b"
   ]
  },
  {
   "cell_type": "code",
   "execution_count": null,
   "id": "61ec3111-dd08-479d-9333-d27436fafbc4",
   "metadata": {},
   "outputs": [],
   "source": []
  }
 ],
 "metadata": {
  "kernelspec": {
   "display_name": "Python 3 (ipykernel)",
   "language": "python",
   "name": "python3"
  },
  "language_info": {
   "codemirror_mode": {
    "name": "ipython",
    "version": 3
   },
   "file_extension": ".py",
   "mimetype": "text/x-python",
   "name": "python",
   "nbconvert_exporter": "python",
   "pygments_lexer": "ipython3",
   "version": "3.10.11"
  }
 },
 "nbformat": 4,
 "nbformat_minor": 5
}
