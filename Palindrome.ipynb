{
 "cells": [
  {
   "cell_type": "code",
   "execution_count": 5,
   "id": "acc8b1d8-0afa-45b0-b9d7-caaf1640d45d",
   "metadata": {},
   "outputs": [
    {
     "name": "stdin",
     "output_type": "stream",
     "text": [
      "Enter string:  tenet\n"
     ]
    },
    {
     "name": "stdout",
     "output_type": "stream",
     "text": [
      "tenet  is a palindrome.\n"
     ]
    }
   ],
   "source": [
    "#Write a program to check palindrome.\n",
    "\n",
    "ori = input(\"Enter string: \")\n",
    "\n",
    "def pali(str):\n",
    "    rev= str[::-1]\n",
    "    if str==rev:\n",
    "        return True\n",
    "    else:\n",
    "        return False\n",
    "\n",
    "if pali(ori):\n",
    "    print(f'{ori}  is a palindrome.')\n",
    "else:\n",
    "    print(f'{ori}  is not a palindrome.')"
   ]
  }
 ],
 "metadata": {
  "kernelspec": {
   "display_name": "Python 3 (ipykernel)",
   "language": "python",
   "name": "python3"
  },
  "language_info": {
   "codemirror_mode": {
    "name": "ipython",
    "version": 3
   },
   "file_extension": ".py",
   "mimetype": "text/x-python",
   "name": "python",
   "nbconvert_exporter": "python",
   "pygments_lexer": "ipython3",
   "version": "3.10.11"
  }
 },
 "nbformat": 4,
 "nbformat_minor": 5
}
