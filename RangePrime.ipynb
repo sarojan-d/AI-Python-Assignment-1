{
 "cells": [
  {
   "cell_type": "code",
   "execution_count": 33,
   "id": "aacb8528-a332-4b8e-93c3-d2bde36409e2",
   "metadata": {},
   "outputs": [
    {
     "name": "stdin",
     "output_type": "stream",
     "text": [
      "Enter two positive numbers:  5\n",
      " 29\n"
     ]
    },
    {
     "name": "stdout",
     "output_type": "stream",
     "text": [
      "Prime numbers between 5 and 29 are: \n",
      "5\t7\t11\t13\t17\t19\t23\t29\t"
     ]
    }
   ],
   "source": [
    "#Write a program to find prime number with in a range using function.\n",
    "\n",
    "def primes(n1,n2):\n",
    "   for n in range(n1, n2+1):\n",
    "        for i in range(2, n):\n",
    "            if n%i == 0:\n",
    "                break\n",
    "        else:\n",
    "            print(n,end='\\t')\n",
    "\n",
    "x= int(input(\"Enter two positive numbers: \"))\n",
    "y= int(input())\n",
    "\n",
    "print(f'Prime numbers between {x} and {y} are: ')\n",
    "\n",
    "if x<y:\n",
    "    primes(x,y)\n",
    "else:\n",
    "    primes(y,x)"
   ]
  }
 ],
 "metadata": {
  "kernelspec": {
   "display_name": "Python 3 (ipykernel)",
   "language": "python",
   "name": "python3"
  },
  "language_info": {
   "codemirror_mode": {
    "name": "ipython",
    "version": 3
   },
   "file_extension": ".py",
   "mimetype": "text/x-python",
   "name": "python",
   "nbconvert_exporter": "python",
   "pygments_lexer": "ipython3",
   "version": "3.10.11"
  }
 },
 "nbformat": 4,
 "nbformat_minor": 5
}
